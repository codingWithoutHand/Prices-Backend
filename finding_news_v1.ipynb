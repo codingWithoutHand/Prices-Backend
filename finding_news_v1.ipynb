{
  "nbformat": 4,
  "nbformat_minor": 0,
  "metadata": {
    "colab": {
      "provenance": [],
      "collapsed_sections": []
    },
    "kernelspec": {
      "name": "python3",
      "display_name": "Python 3"
    },
    "language_info": {
      "name": "python"
    }
  },
  "cells": [
    {
      "cell_type": "code",
      "source": [
        "#main > c-wiz > div.lBwEZb.BL5WZb.GndZbb > div.NiLAwe.mi8Lec.gAl5If.jVwmLb.Oc0wGc.R7GTQ.keNKEd.j7vNaf.nID9nc > div > div > article > div > div > a\n",
        "#main > c-wiz > div.lBwEZb.BL5WZb.GndZbb > div:nth-child(2) > div > article > div > div > a\n",
        "#main > c-wiz > div.lBwEZb.BL5WZb.GndZbb > div:nth-child(3) > div > article > div > div > a\n",
        "#main > c-wiz > div.lBwEZb.BL5WZb.GndZbb > div:nth-child(1) > div > div > article > div > div > a\n",
        "#main > c-wiz > div.lBwEZb.BL5WZb.GndZbb > div.NiLAwe.mi8Lec.gAl5If.jVwmLb.Oc0wGc.R7GTQ.keNKEd.j7vNaf.nID9nc > div > div > article > div > div > a\n",
        "#main > c-wiz > div.lBwEZb.BL5WZb.GndZbb > div:nth-child(2) > div > article > div > div > a\n",
        "#main > c-wiz > div.lBwEZb.BL5WZb.GndZbb > div:nth-child(1) > div > article > div > div > a\n",
        "#main > c-wiz > div.lBwEZb.BL5WZb.GndZbb > div:nth-child(2) > div > div > article > div > div > a\n",
        "import requests\n",
        "from bs4 import BeautifulSoup\n",
        "from datetime import datetime\n",
        "import math\n",
        "import time\n",
        "import json\n",
        "def get_news_heads(inp):\n",
        "    result=[]\n",
        "    url=\"https://news.google.com/search?q=\"+inp+\"&hl=ko&gl=KR&ceid=KR%3Ako\"\n",
        "    resp = requests.get(url)\n",
        "    soup = BeautifulSoup(resp.text, 'lxml')\n",
        "    items = soup.select('div > article > h3 > a')\n",
        "    #print(items)\n",
        "    for idx, item in enumerate(items): # nth-child 는 nth-of-type 으로 바꾸어줘야 한다.\n",
        "        publisher = soup.select('main > c-wiz > div.lBwEZb.BL5WZb.GndZbb '\n",
        "                                '> div:nth-of-type('+str(idx+1)+') > div > article '\n",
        "                                '> div > div > a') # 해당 idx 출판사 이름을 가져옴\n",
        "\n",
        "        cu=publisher\n",
        "        if len(cu) == 0: \n",
        "          publisher1 = soup.select('main > c-wiz > div.lBwEZb.BL5WZb.GndZbb '\n",
        "                                '> div:nth-of-type('+str(idx+1)+') > div > div > article '\n",
        "                                '> div > div > a')\n",
        "          if len(publisher1) == 0: \n",
        "            publisher2 = soup.select('main > c-wiz > div.lBwEZb.BL5WZb.GndZbb > div.NiLAwe.mi8Lec.gAl5If.jVwmLb.Oc0wGc.R7GTQ.keNKEd.j7vNaf.nID9nc > div > div > article > div > div > a') # 해당 idx 출판사 이름을 가져옴\n",
        "            cu=publisher2\n",
        "          else:\n",
        "            cu=publisher1\n",
        "\n",
        "          \n",
        "        if len(cu)==0:\n",
        "          continue\n",
        "        else:\n",
        "          publisher=cu\n",
        "        pub = publisher[0].getText() #뉴스 출판사\n",
        "        title = item.text #뉴스 헤드라인\n",
        "        link = 'https://news.google.com'+str(item.get('href')) #뉴스 경로\n",
        "        date=0\n",
        "        items = soup.select('main > c-wiz > div.lBwEZb.BL5WZb.GndZbb > div:nth-of-type('+str(idx+1)+') > div > article > div.QmrVtf.RD0gLb.kybdz > div > time')\n",
        "        A=str(items)\n",
        "        rdate=0\n",
        "        if A==\"[]\":\n",
        "          date=-math.inf\n",
        "          rdate=\"no date\"\n",
        "        else:\n",
        "          A=A.split(\"datetime=\\\"\")\n",
        "          #print(A)\n",
        "          B=A[1].split(\"Z\\\">\")\n",
        "         # print(B[0])\n",
        "          #datetime=\"2022-09-13T09:27:00Z\">\n",
        "          s = B[0]#\"16/08/2013 09:51:43\"#B[0] = 2022-09-13T09:27:00\n",
        "          d = datetime.strptime(s, \"%Y-%m-%dT%H:%M:%S\")\n",
        "          date=time.mktime(d.timetuple())\n",
        "          rdate=B[0]\n",
        "          \n",
        "        #main > c-wiz > div.lBwEZb.BL5WZb.GndZbb > div:nth-child(5) > div > article > div.QmrVtf.RD0gLb.kybdz > div > time <- ~일전\n",
        "        #main > c-wiz > div.lBwEZb.BL5WZb.GndZbb > div:nth-child(9) > div > article > div.QmrVtf.RD0gLb.kybdz > div > time\n",
        "        #main > c-wiz > div.lBwEZb.BL5WZb.GndZbb > div:nth-child(8) > div > article > div.QmrVtf.RD0gLb.kybdz > div > time\n",
        "        #main > c-wiz > div.lBwEZb.BL5WZb.GndZbb > div:nth-child(14) > div > article > div.QmrVtf.RD0gLb.kybdz > div > time\n",
        "        #main > c-wiz > div.lBwEZb.BL5WZb.GndZbb > div.NiLAwe.mi8Lec.gAl5If.jVwmLb.Oc0wGc.R7GTQ.keNKEd.j7vNaf.nID9nc > div > div > article > div.QmrVtf.RD0gLb.kybdz > div > time <- 1번\n",
        "        #main > c-wiz > div.lBwEZb.BL5WZb.GndZbb > div:nth-child(2) > div > article > div.QmrVtf.RD0gLb.kybdz > div > time\n",
        "        \n",
        "        result.append([date,pub,title,link,rdate])\n",
        "        result.sort()\n",
        "    return result\n",
        "\n"
      ],
      "metadata": {
        "id": "Tw56NRbMhzfr"
      },
      "execution_count": 48,
      "outputs": []
    },
    {
      "cell_type": "code",
      "source": [
        "# 날짜 가 얻어지는 거만 정렬하고 아닌거는 가장 상단에 나오게 함(날짜를 못얻는게 별로 없어서 상단 배치)\n",
        "# 검색어는 물품 + \"물가\" 로 구성되며, \"상승\", \"하락\" 을 추가하면 더 확실하게 알수있음\n",
        "a=input(\"검색어\")\n",
        "b=int(input(\"최대 뉴스 개수\"))\n",
        "A=get_news_heads(a)\n",
        "for i in range(min(b,len(A))):\n",
        "  print(\"#\"*50)\n",
        "  print(\"제목 :\",A[i][2])\n",
        "  print(\"출처 :\",A[i][1])\n",
        "  print(\"날짜 :\",A[i][4])\n",
        "  print(\"링크 :\",A[i][3])"
      ],
      "metadata": {
        "id": "rbEfg-iyuAcg"
      },
      "execution_count": null,
      "outputs": []
    },
    {
      "cell_type": "code",
      "source": [],
      "metadata": {
        "id": "r5w0cuLC2pwa"
      },
      "execution_count": null,
      "outputs": []
    }
  ]
}
