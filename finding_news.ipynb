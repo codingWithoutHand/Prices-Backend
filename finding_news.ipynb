{
  "nbformat": 4,
  "nbformat_minor": 0,
  "metadata": {
    "colab": {
      "provenance": [],
      "collapsed_sections": []
    },
    "kernelspec": {
      "name": "python3",
      "display_name": "Python 3"
    },
    "language_info": {
      "name": "python"
    }
  },
  "cells": [
    {
      "cell_type": "code",
      "source": [
        "import requests\n",
        "from bs4 import BeautifulSoup\n",
        "import json\n",
        "#main > c-wiz > div.lBwEZb.BL5WZb.GndZbb > div.NiLAwe.mi8Lec.gAl5If.jVwmLb.Oc0wGc.R7GTQ.keNKEd.j7vNaf.nID9nc > div > div > article > div > div > a\n",
        "#main > c-wiz > div.lBwEZb.BL5WZb.GndZbb > div:nth-child(2) > div > article > div > div > a\n",
        "#main > c-wiz > div.lBwEZb.BL5WZb.GndZbb > div:nth-child(3) > div > article > div > div > a\n",
        "#main > c-wiz > div.lBwEZb.BL5WZb.GndZbb > div:nth-child(1) > div > div > article > div > div > a\n",
        "#main > c-wiz > div.lBwEZb.BL5WZb.GndZbb > div.NiLAwe.mi8Lec.gAl5If.jVwmLb.Oc0wGc.R7GTQ.keNKEd.j7vNaf.nID9nc > div > div > article > div > div > a\n",
        "#main > c-wiz > div.lBwEZb.BL5WZb.GndZbb > div:nth-child(2) > div > article > div > div > a\n",
        "#main > c-wiz > div.lBwEZb.BL5WZb.GndZbb > div:nth-child(1) > div > article > div > div > a\n",
        "#main > c-wiz > div.lBwEZb.BL5WZb.GndZbb > div:nth-child(2) > div > div > article > div > div > a\n",
        "def get_news_heads(inp):\n",
        "    result=[]\n",
        "    url=\"https://news.google.com/search?q=\"+inp+\"&hl=ko&gl=KR&ceid=KR%3Ako\"\n",
        "    resp = requests.get(url)\n",
        "    soup = BeautifulSoup(resp.text, 'lxml')\n",
        "    items = soup.select('div > article > h3 > a')\n",
        "    for idx, item in enumerate(items): # nth-child 는 nth-of-type 으로 바꾸어줘야 한다.\n",
        "        publisher = soup.select('main > c-wiz > div.lBwEZb.BL5WZb.GndZbb '\n",
        "                                '> div:nth-of-type('+str(idx+1)+') > div > article '\n",
        "                                '> div > div > a') # 해당 idx 출판사 이름을 가져옴\n",
        "\n",
        "        cu=publisher\n",
        "        if len(cu) == 0: \n",
        "          publisher1 = soup.select('main > c-wiz > div.lBwEZb.BL5WZb.GndZbb '\n",
        "                                '> div:nth-of-type('+str(idx+1)+') > div > div > article '\n",
        "                                '> div > div > a') # 해당 idx 출판사 이름을 가져옴\n",
        "          if len(publisher1) == 0: \n",
        "            publisher2 = soup.select('main > c-wiz > div.lBwEZb.BL5WZb.GndZbb > div.NiLAwe.mi8Lec.gAl5If.jVwmLb.Oc0wGc.R7GTQ.keNKEd.j7vNaf.nID9nc > div > div > article > div > div > a') # 해당 idx 출판사 이름을 가져옴\n",
        "            cu=publisher2\n",
        "          else:\n",
        "            cu=publisher1\n",
        "\n",
        "          \n",
        "        if len(cu)==0:\n",
        "          continue\n",
        "        else:\n",
        "          publisher=cu\n",
        "        pub = publisher[0].getText() #뉴스 출판사\n",
        "        title = item.text #뉴스 헤드라인\n",
        "        link = 'https://news.google.com'+str(item.get('href')) #뉴스 경로\n",
        "        \n",
        "        result.append([pub,title,link])\n",
        "    return result\n"
      ],
      "metadata": {
        "id": "Tw56NRbMhzfr"
      },
      "execution_count": 2,
      "outputs": []
    },
    {
      "cell_type": "code",
      "source": [
        "a=input(\"검색어\")\n",
        "b=int(input(\"최대 뉴스 개수\"))\n",
        "A=get_news_heads(a)\n",
        "for i in range(min(b,len(A))):\n",
        "  print(\"#\"*50)\n",
        "  print(\"제목 :\",A[i][1])\n",
        "  print(\"출처 :\",A[i][0])\n",
        "  print(\"링크 :\",A[i][2])"
      ],
      "metadata": {
        "colab": {
          "base_uri": "https://localhost:8080/"
        },
        "id": "HYd5PZVrt-Fh",
        "outputId": "34bb749f-22bb-4817-c151-34ed15196b48"
      },
      "execution_count": 3,
      "outputs": [
        {
          "output_type": "stream",
          "name": "stdout",
          "text": [
            "검색어충북 사과 물가\n",
            "최대 뉴스 개수5\n",
            "##############################\n",
            "제목 : 충북과 나의 연결고리 '충북일보'\n",
            "출처 : 충북일보\n",
            "링크 : https://news.google.com./articles/CBMiNGh0dHBzOi8vd3d3LmluZXdzMzY1LmNvbS9uZXdzL2FydGljbGUuaHRtbD9ubz03MzAyODbSAQA?hl=ko&gl=KR&ceid=KR%3Ako\n",
            "##############################\n",
            "제목 : 충주 사과농가 찾은 정황근 장관 “성수품 공급 안정·물가 관리 최선”\n",
            "출처 : 아시아투데이\n",
            "링크 : https://news.google.com./articles/CBMiOmh0dHBzOi8vd3d3LmFzaWF0b2RheS5jby5rci92aWV3LnBocD9rZXk9MjAyMjA4MjUwMTAwMTU2ODTSAQA?hl=ko&gl=KR&ceid=KR%3Ako\n",
            "##############################\n",
            "제목 : 또 농산물값 타령…추석대목 발목 잡나\n",
            "출처 : 농민신문\n",
            "링크 : https://news.google.com./articles/CBMiM2h0dHBzOi8vbS5ub25nbWluLmNvbS9uZXdzL05FV1MvUE9ML0VUQy8zNjE5NTkvdmlld9IBAA?hl=ko&gl=KR&ceid=KR%3Ako\n",
            "##############################\n",
            "제목 : 高물가에 차례상 송편-명태 빼고… “친척 많이 올까 걱정”\n",
            "출처 : 동아일보\n",
            "링크 : https://news.google.com./articles/CBMiQ2h0dHBzOi8vd3d3LmRvbmdhLmNvbS9uZXdzL1NvY2lldHkvYXJ0aWNsZS9hbGwvMjAyMjA5MDIvMTE1MjY3MjM0LzHSATdodHRwczovL3d3dy5kb25nYS5jb20vbmV3cy9hbXAvYWxsLzIwMjIwOTAyLzExNTI2NzIzNC8x?hl=ko&gl=KR&ceid=KR%3Ako\n",
            "##############################\n",
            "제목 : 홈플러스, 제철 맞아 꿀맛같은 ‘납작복숭아·햇 홍로사과’ 할인 판매\n",
            "출처 : 글로벌경제신문\n",
            "링크 : https://news.google.com./articles/CAIiEFh7hlWpkmQz6inWvkwRptsqGQgEKhAIACoHCAowoISfCzCtjrcDMP-e8gY?uo=CAUiPGh0dHBzOi8vd3d3LmdldG5ld3MuY28ua3IvbmV3cy9hcnRpY2xlVmlldy5odG1sP2lkeG5vPTU5NTg3ONIBAA&hl=ko&gl=KR&ceid=KR%3Ako\n"
          ]
        }
      ]
    },
    {
      "cell_type": "code",
      "source": [],
      "metadata": {
        "id": "rbEfg-iyuAcg"
      },
      "execution_count": null,
      "outputs": []
    },
    {
      "cell_type": "code",
      "source": [],
      "metadata": {
        "id": "r5w0cuLC2pwa"
      },
      "execution_count": null,
      "outputs": []
    }
  ]
}